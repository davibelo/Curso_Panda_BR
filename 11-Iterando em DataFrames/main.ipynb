{
 "metadata": {
  "language_info": {
   "codemirror_mode": {
    "name": "ipython",
    "version": 3
   },
   "file_extension": ".py",
   "mimetype": "text/x-python",
   "name": "python",
   "nbconvert_exporter": "python",
   "pygments_lexer": "ipython3",
   "version": "3.8.5"
  },
  "orig_nbformat": 2,
  "kernelspec": {
   "name": "pythonjvsc74a57bd007739a9d65637dfe34f3f7c2b6bfe605a501c091720921f86d3dfa8274fd1dd5",
   "display_name": "Python 3.8.5  ('.venv': venv)"
  },
  "metadata": {
   "interpreter": {
    "hash": "07739a9d65637dfe34f3f7c2b6bfe605a501c091720921f86d3dfa8274fd1dd5"
   }
  }
 },
 "nbformat": 4,
 "nbformat_minor": 2,
 "cells": [
  {
   "cell_type": "code",
   "execution_count": 1,
   "metadata": {},
   "outputs": [
    {
     "output_type": "stream",
     "name": "stdout",
     "text": [
      "['Angela', 'James', 'Lilly']\n[56, 76, 98]\n"
     ]
    }
   ],
   "source": [
    "student_dict = {\n",
    "    \"student\": [\"Angela\", \"James\", \"Lilly\"],\n",
    "    \"score\": [56, 76, 98]\n",
    "}\n",
    "\n",
    "# looping through dictionaries\n",
    "for (key, value) in student_dict.items():\n",
    "    print(value)"
   ]
  },
  {
   "cell_type": "code",
   "execution_count": 2,
   "metadata": {},
   "outputs": [
    {
     "output_type": "stream",
     "name": "stdout",
     "text": [
      "  student  score\n0  Angela     56\n1   James     76\n2   Lilly     98\n"
     ]
    }
   ],
   "source": [
    "import pandas as pd \n",
    "\n",
    "# creating a pandas DataFrame\n",
    "student_df = pd.DataFrame(student_dict)\n",
    "print(student_df)"
   ]
  },
  {
   "cell_type": "code",
   "execution_count": 3,
   "metadata": {},
   "outputs": [
    {
     "output_type": "stream",
     "name": "stdout",
     "text": [
      "0    Angela\n1     James\n2     Lilly\nName: student, dtype: object\n0    56\n1    76\n2    98\nName: score, dtype: int64\n"
     ]
    }
   ],
   "source": [
    "# looping through dataframe\n",
    "for (key, value) in student_df.items():\n",
    "    print(value)\n",
    "# OBS: a for loop through a data frame, loops through the COLUMNS, not rows!!! similar to the for loop through a dict"
   ]
  },
  {
   "cell_type": "code",
   "execution_count": 7,
   "metadata": {},
   "outputs": [
    {
     "output_type": "stream",
     "name": "stdout",
     "text": [
      "0 student    Angela\nscore          56\nName: 0, dtype: object\n1 student    James\nscore         76\nName: 1, dtype: object\n2 student    Lilly\nscore         98\nName: 2, dtype: object\n"
     ]
    }
   ],
   "source": [
    "# looping through rows in pandas\n",
    "for (index, row) in student_df.iterrows():\n",
    "    print(index, row)"
   ]
  },
  {
   "cell_type": "code",
   "execution_count": 11,
   "metadata": {},
   "outputs": [
    {
     "output_type": "stream",
     "name": "stdout",
     "text": [
      "Angela 56\nJames 76\nLilly 98\n"
     ]
    }
   ],
   "source": [
    "# looping through rows in pandas\n",
    "for (index, row) in student_df.iterrows():\n",
    "    print(row.student, row.score)"
   ]
  },
  {
   "cell_type": "code",
   "execution_count": 14,
   "metadata": {},
   "outputs": [
    {
     "output_type": "stream",
     "name": "stdout",
     "text": [
      "Angela 56\n"
     ]
    }
   ],
   "source": [
    "# looping through rows in pandas\n",
    "for (index, row) in student_df.iterrows():\n",
    "    if row.student == \"Angela\":\n",
    "        print(row.student, row.score)"
   ]
  }
 ]
}